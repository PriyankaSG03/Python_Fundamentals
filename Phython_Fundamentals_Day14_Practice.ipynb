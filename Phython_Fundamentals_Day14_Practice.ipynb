{
 "cells": [
  {
   "cell_type": "code",
   "execution_count": null,
   "metadata": {},
   "outputs": [],
   "source": [
    "#Return values of function"
   ]
  },
  {
   "cell_type": "code",
   "execution_count": 9,
   "metadata": {},
   "outputs": [
    {
     "name": "stdout",
     "output_type": "stream",
     "text": [
      "Priyankas G\n"
     ]
    }
   ],
   "source": [
    "def get_formatted_name(first_name,last_name):\n",
    "    \"\"\"Return a ful name neatly formatted\"\"\"\n",
    "    full_name=f\"{first_name}{last_name}\"\n",
    "    return full_name.title()\n",
    "\n",
    "std=get_formatted_name('priyanka','s g')\n",
    "print(std)"
   ]
  },
  {
   "cell_type": "code",
   "execution_count": 5,
   "metadata": {},
   "outputs": [
    {
     "name": "stdout",
     "output_type": "stream",
     "text": [
      "Siddu N C\n"
     ]
    }
   ],
   "source": [
    "std1=get_formatted_name('Siddu', ' N C')\n",
    "print(std1)"
   ]
  },
  {
   "cell_type": "code",
   "execution_count": null,
   "metadata": {},
   "outputs": [],
   "source": [
    "#Returning a dictionary"
   ]
  },
  {
   "cell_type": "code",
   "execution_count": 10,
   "metadata": {},
   "outputs": [],
   "source": [
    "def define_person(first_name,last_name):\n",
    "    \"\"\"Return a dictionary of information abt a person\"\"\"\n",
    "    person={'first':first_name,'last':last_name}\n",
    "    return person"
   ]
  },
  {
   "cell_type": "code",
   "execution_count": 11,
   "metadata": {},
   "outputs": [
    {
     "name": "stdout",
     "output_type": "stream",
     "text": [
      "{'first': 'Prateek', 'last': 'S G'}\n"
     ]
    }
   ],
   "source": [
    "std2=define_person('Prateek','S G')\n",
    "print(std2)"
   ]
  },
  {
   "cell_type": "code",
   "execution_count": null,
   "metadata": {},
   "outputs": [],
   "source": [
    "#Passing a list to the function"
   ]
  },
  {
   "cell_type": "code",
   "execution_count": 15,
   "metadata": {},
   "outputs": [],
   "source": [
    "students=['faraz','rahul','subrata','jyotsna','harshini','aishwarya','ashwini','maid','ashok','venkat']\n",
    "#Reqt:congratulate fro practising regularly with use of function"
   ]
  },
  {
   "cell_type": "code",
   "execution_count": 16,
   "metadata": {},
   "outputs": [],
   "source": [
    "def greet_students(names):\n",
    "    \"\"\"Congratulating all the students who are practising regularly\"\"\"\n",
    "    for x in names:\n",
    "        msg=f\"Keep up the good work,{x.title()}\"\n",
    "        print(msg)"
   ]
  },
  {
   "cell_type": "code",
   "execution_count": 17,
   "metadata": {},
   "outputs": [
    {
     "name": "stdout",
     "output_type": "stream",
     "text": [
      "Keep up the good work,Faraz\n",
      "Keep up the good work,Rahul\n",
      "Keep up the good work,Subrata\n",
      "Keep up the good work,Jyotsna\n",
      "Keep up the good work,Harshini\n",
      "Keep up the good work,Aishwarya\n",
      "Keep up the good work,Ashwini\n",
      "Keep up the good work,Maid\n",
      "Keep up the good work,Ashok\n",
      "Keep up the good work,Venkat\n"
     ]
    }
   ],
   "source": [
    "greet_students(students)"
   ]
  },
  {
   "cell_type": "code",
   "execution_count": null,
   "metadata": {},
   "outputs": [],
   "source": []
  }
 ],
 "metadata": {
  "kernelspec": {
   "display_name": "Python 3",
   "language": "python",
   "name": "python3"
  },
  "language_info": {
   "codemirror_mode": {
    "name": "ipython",
    "version": 3
   },
   "file_extension": ".py",
   "mimetype": "text/x-python",
   "name": "python",
   "nbconvert_exporter": "python",
   "pygments_lexer": "ipython3",
   "version": "3.7.6"
  }
 },
 "nbformat": 4,
 "nbformat_minor": 4
}
