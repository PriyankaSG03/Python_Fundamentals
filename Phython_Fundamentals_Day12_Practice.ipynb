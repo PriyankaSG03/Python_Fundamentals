{
 "cells": [
  {
   "cell_type": "code",
   "execution_count": null,
   "metadata": {},
   "outputs": [],
   "source": [
    "#Introduction to while loops"
   ]
  },
  {
   "cell_type": "code",
   "execution_count": 1,
   "metadata": {},
   "outputs": [
    {
     "name": "stdout",
     "output_type": "stream",
     "text": [
      "1\n",
      "2\n",
      "3\n",
      "4\n",
      "5\n"
     ]
    }
   ],
   "source": [
    "Current_num=1\n",
    "while Current_num<=5:\n",
    "    print(Current_num)\n",
    "    Current_num+=1"
   ]
  },
  {
   "cell_type": "code",
   "execution_count": 1,
   "metadata": {},
   "outputs": [
    {
     "name": "stdout",
     "output_type": "stream",
     "text": [
      "\n",
      "Tell me about yourself i will repeat it back for you:\n",
      "Enter 'quit'to end the program\tHi\n",
      "Hi\n",
      "\n",
      "Tell me about yourself i will repeat it back for you:\n",
      "Enter 'quit'to end the program\tMy name is priyanka\n",
      "My name is priyanka\n",
      "\n",
      "Tell me about yourself i will repeat it back for you:\n",
      "Enter 'quit'to end the program\tquit\n",
      "quit\n"
     ]
    }
   ],
   "source": [
    "prompt=\"\\nTell me about yourself i will repeat it back for you:\"\n",
    "prompt+=\"\\nEnter 'quit'to end the program\\t\"\n",
    "message=''\n",
    "while message !='quit':\n",
    "    message=input(prompt)\n",
    "    print(message)"
   ]
  },
  {
   "cell_type": "code",
   "execution_count": null,
   "metadata": {},
   "outputs": [],
   "source": [
    "#Introduction to python functions"
   ]
  },
  {
   "cell_type": "code",
   "execution_count": null,
   "metadata": {},
   "outputs": [],
   "source": [
    "#Reqt : function to greet an user:"
   ]
  },
  {
   "cell_type": "code",
   "execution_count": 10,
   "metadata": {},
   "outputs": [
    {
     "name": "stdout",
     "output_type": "stream",
     "text": [
      "Hello\n"
     ]
    }
   ],
   "source": [
    "def greet_user():\n",
    "    \"\"\"Display a simple greeting\"\"\"\n",
    "    print('Hello')\n",
    "\n",
    "greet_user()\n",
    "   "
   ]
  },
  {
   "cell_type": "code",
   "execution_count": null,
   "metadata": {},
   "outputs": [],
   "source": [
    "#Small case for funion name and upper case for class name"
   ]
  },
  {
   "cell_type": "code",
   "execution_count": 11,
   "metadata": {},
   "outputs": [
    {
     "name": "stdout",
     "output_type": "stream",
     "text": [
      "Hello, good to have you again,Priyanka\n"
     ]
    }
   ],
   "source": [
    "def greet_user(username):\n",
    "    \"\"\"Display a simple greeting\"\"\"\n",
    "    print(f\"Hello, good to have you again,{username.title()}\")\n",
    "    \n",
    "greet_user(\"priyanka\")"
   ]
  },
  {
   "cell_type": "code",
   "execution_count": null,
   "metadata": {},
   "outputs": [],
   "source": []
  },
  {
   "cell_type": "code",
   "execution_count": null,
   "metadata": {},
   "outputs": [],
   "source": []
  },
  {
   "cell_type": "code",
   "execution_count": null,
   "metadata": {},
   "outputs": [],
   "source": []
  },
  {
   "cell_type": "code",
   "execution_count": null,
   "metadata": {},
   "outputs": [],
   "source": []
  },
  {
   "cell_type": "code",
   "execution_count": null,
   "metadata": {},
   "outputs": [],
   "source": []
  }
 ],
 "metadata": {
  "kernelspec": {
   "display_name": "Python 3",
   "language": "python",
   "name": "python3"
  },
  "language_info": {
   "codemirror_mode": {
    "name": "ipython",
    "version": 3
   },
   "file_extension": ".py",
   "mimetype": "text/x-python",
   "name": "python",
   "nbconvert_exporter": "python",
   "pygments_lexer": "ipython3",
   "version": "3.7.6"
  }
 },
 "nbformat": 4,
 "nbformat_minor": 4
}
